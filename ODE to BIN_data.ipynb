{
 "cells": [
  {
   "cell_type": "code",
   "execution_count": 1,
   "metadata": {
    "collapsed": false
   },
   "outputs": [],
   "source": [
    "using DiffEqBase, OrdinaryDiffEq, ParameterizedFunctions, JLD2\n",
    "\n",
    "#=\n",
    "pf = @ode_def_bare MAIN begin\n",
    "  # for rules\n",
    "  v1 = k1*A*comp1\n",
    "  # for dynamic\n",
    "  dA = -v1/comp1\n",
    "  dB = v1/comp1\n",
    "end comp1=>1.1 k1=>0.01\n",
    "=#\n",
    "\n",
    "p_func = function(t, u, p, du)\n",
    "    v1 = p[2]*u[1]*p[1]\n",
    "    du[1] = -p[2]/p[1]\n",
    "    du[2] = p[2]/p[1]\n",
    "end\n",
    "pf = ParameterizedFunction(p_func, [1.5,1.0])\n",
    "\n",
    "#JLD2.@save \"out.jld2\" pf\n",
    "\n",
    "u0 = [10., 0.]\n",
    "tspan = (0., 100.)\n",
    "\n",
    "prob = ODEProblem(pf,u0,tspan)\n",
    "\n",
    "x=IOBuffer()\n",
    "serialize(x, prob)\n",
    "\n",
    "#open(\"ode_sys.bin\", \"w\") do f\n",
    "#    serialize(f, prob)\n",
    "#end\n",
    "\n"
   ]
  },
  {
   "cell_type": "code",
   "execution_count": 8,
   "metadata": {
    "collapsed": true
   },
   "outputs": [],
   "source": [
    "workspace()"
   ]
  },
  {
   "cell_type": "code",
   "execution_count": 3,
   "metadata": {
    "collapsed": false
   },
   "outputs": [
    {
     "data": {
      "text/plain": [
       "MongoCollection(scenarios)"
      ]
     },
     "execution_count": 3,
     "metadata": {},
     "output_type": "execute_result"
    }
   ],
   "source": [
    "using Mongo, LibBSON\n",
    "client = MongoClient(\"insilicobio.ru\", 27017, \"julia\", \"6dd580b4ed\")\n",
    "scenarios = MongoCollection(client, \"testPlatform1\", \"scenarios\")\n",
    "\n",
    "insert(scenarios, (\"id\" => \"new_ode\", \"odeDim\" => 2,\"ode_prob\" => \"$(x.data)\"))"
   ]
  },
  {
   "cell_type": "code",
   "execution_count": 5,
   "metadata": {
    "collapsed": false
   },
   "outputs": [
    {
     "data": {
      "text/plain": [
       "1-element Array{LibBSON.BSONObject,1}:\n",
       " BSONObject({ \"_id\" : { \"$oid\" : \"5a4226313be02425a80068b3\" }, \"odeDim\" : 2, \"id\" : \"new_ode\", \"ode_prob\" : \"UInt8[0x34, 0x10, 0x01, 0x0a, 0x4f, 0x44, 0x45, 0x50, 0x72, 0x6f, 0x62, 0x6c, 0x65, 0x6d, 0x1f, 0x01, 0x0a, 0x44, 0x69, 0x66, 0x66, 0x45, 0x71, 0x42, 0x61, 0x73, 0x65, 0x37, 0x07, 0x00, 0x00, 0x00, 0x10, 0x43, 0x1f, 0x8e, 0x37, 0x02, 0x00, 0x00, 0x00, 0x00, 0x0e, 0xc6, 0x00, 0x0e, 0x40, 0x10, 0x01, 0x15, 0x50, 0x61, 0x72, 0x61, 0x6d, 0x65, 0x74, 0x65, 0x72, 0x69, 0x7a, 0x65, 0x64, 0x46, 0x75, 0x6e, 0x63, 0x74, 0x69, 0x6f, 0x6e, 0x1f, 0x2c, 0x02, 0x00, 0x37, 0x03, 0x00, 0x00, 0x00, 0x40, 0x33, 0x13, 0x00, 0x00, 0x00, 0x00, 0x00, 0x10, 0x00, 0x00, 0x01, 0x06, 0x23, 0x23, 0x39, 0x23, 0x31, 0x30, 0x22, 0x00, 0x00, 0x00, 0x00, 0x10, 0x4b, 0x1f, 0x8e, 0x37, 0x22, 0x00, 0x00, 0x00, 0x00, 0x22, 0x00, 0x00, 0x00, 0x00, 0x40, 0x3f, 0x3f, 0xa4, 0x01, 0x02, 0x23, 0x39, 0x15, 0x39, 0xc6, 0x23, 0x01, 0x00, 0x00, 0x00, 0x00, 0x10, 0x00, 0x00, 0x1f, 0x37, 0x01, 0x02, 0x23, 0x39, 0x01, 0x05, 0x49, 0x6e, 0x5b, 0x36, 0x5d, 0xb2, 0x10, 0x46, 0x1f, 0x8e, 0x37, 0x05, 0x00, 0x00, 0x00, 0x33, 0x2c, 0x06, 0x00, 0x39, 0x39, 0x39, 0x39, 0x22, 0x00, 0x00, 0x00, 0x00, 0x41, 0xa9, 0x3f, 0x3f, 0x1b, 0x15, 0x39, 0xce, 0x41, 0x16, 0x02, 0x4c, 0x39, 0x25, 0xcb, 0x16, 0x04, 0x49, 0x39, 0x24, 0x1f, 0x37, 0x01, 0x01, 0x2a, 0x16, 0x03, 0x49, 0x39, 0x24, 0x1f, 0x37, 0x8c, 0x25, 0xc9, 0xc7, 0x16, 0x03, 0x49, 0x39, 0x24, 0x1f, 0x37, 0x8c, 0x25, 0xc8, 0xc6, 0x16, 0x03, 0x49, 0x39, 0x24, 0x1f, 0x37, 0x8c, 0x25, 0xc9, 0xc6, 0x17, 0xd4, 0x16, 0x02, 0x4c, 0x39, 0x28, 0xc5, 0x16, 0x03, 0x49, 0x39, 0x24, 0x1f, 0x37, 0x01, 0x01, 0x2f, 0x16, 0x02, 0x49, 0x39, 0x24, 0x1f, 0x37, 0x01, 0x01, 0x2d, 0x16, 0x03, 0x49, 0x39, 0x24, 0x1f, 0x37, 0x8c, 0x25, 0xc9, 0xc7, 0x16, 0x03, 0x49, 0x39, 0x24, 0x1f, 0x37, 0x8c, 0x25, 0xc9, 0xc6, 0x16, 0x04, 0x49, 0x39, 0x24, 0x1f, 0x37, 0x8d, 0x25, 0xca, 0x28, 0xc5, 0xc6, 0x17, 0xd5, 0x16, 0x02, 0x4c, 0x39, 0x28, 0xc6, 0x16, 0x03, 0x49, 0x39, 0x24, 0x1f, 0x37, 0x01, 0x01, 0x2f, 0x16, 0x03, 0x49, 0x39, 0x24, 0x1f, 0x37, 0x8c, 0x25, 0xc9, 0xc7, 0x16, 0x03, 0x49, 0x39, 0x24, 0x1f, 0x37, 0x8c, 0x25, 0xc9, 0xc6, 0x16, 0x04, 0x49, 0x39, 0x24, 0x1f, 0x37, 0x8d, 0x25, 0xca, 0x28, 0xc6, 0xc7, 0x16, 0x01, 0x48, 0x39, 0x28, 0xc6, 0x41, 0xc7, 0x15, 0xcb, 0x00, 0x00, 0x00, 0x00, 0x00, 0x12, 0x15, 0x39, 0xcb, 0x95, 0x6c, 0x6d, 0x68, 0x01, 0x02, 0x64, 0x75, 0x01, 0x02, 0x76, 0x31, 0x3f, 0x3f, 0x3f, 0x3f, 0xca, 0x29, 0x2c, 0x03, 0x00, 0x10, 0x01, 0x04, 0x56, 0x6f, 0x69, 0x64, 0x1f, 0x8e, 0x37, 0x10, 0x01, 0x0e, 0x55, 0x6e, 0x69, 0x66, 0x6f, 0x72, 0x6d, 0x53, 0x63, 0x61, 0x6c, 0x69, 0x6e, 0x67, 0x1f, 0x91, 0x01, 0x06, 0x4c, 0x69, 0x6e, 0x41, 0x6c, 0x67, 0x37, 0x01, 0x00, 0x00, 0x00, 0x00, 0x08, 0x10, 0x01, 0x12, 0x53, 0x74, 0x61, 0x6e, 0x64, 0x61, 0x72, 0x64, 0x4f, 0x44, 0x45, 0x50, 0x72, 0x6f, 0x62, 0x6c, 0x65, 0x6d, 0x1f, 0x2c, 0x02, 0x00, 0x37, 0x35, 0x2c, 0x04, 0x00, 0x34, 0x33, 0x2c, 0x06, 0x00, 0x15, 0x00, 0x0e, 0xc7, 0x00, 0x00, 0x00, 0x00, 0x00, 0x00, 0xf8, 0x3f, 0x00, 0x00, 0x00, 0x00, 0x00, 0x00, 0xf0, 0x3f, 0x15, 0x00, 0x0e, 0xc7, 0x00, 0x00, 0x00, 0x00, 0x00, 0x00, 0x24, 0x40, 0x00, 0x00, 0x00, 0x00, 0x00, 0x00, 0x00, 0x00, 0x14, 0x02, 0x0e, 0x00, 0x00, 0x00, 0x00, 0x00, 0x00, 0x00, 0x00, 0x0e, 0x00, 0x00, 0x00, 0x00, 0x00, 0x00, 0x59, 0x40, 0x41, 0x34, 0x2c, 0x21, 0x00, 0xc6, 0x34, 0x2c, 0x23, 0x00]\" })"
      ]
     },
     "execution_count": 5,
     "metadata": {},
     "output_type": "execute_result"
    }
   ],
   "source": [
    "new_ode = [m for m in find(scenarios, Dict(\"id\"=>\"new_ode\"))]"
   ]
  },
  {
   "cell_type": "code",
   "execution_count": 7,
   "metadata": {
    "collapsed": false
   },
   "outputs": [
    {
     "data": {
      "text/plain": [
       "538-element Array{UInt8,1}:\n",
       " 0x34\n",
       " 0x10\n",
       " 0x01\n",
       " 0x0a\n",
       " 0x4f\n",
       " 0x44\n",
       " 0x45\n",
       " 0x50\n",
       " 0x72\n",
       " 0x6f\n",
       " 0x62\n",
       " 0x6c\n",
       " 0x65\n",
       "    ⋮\n",
       " 0x59\n",
       " 0x40\n",
       " 0x41\n",
       " 0x34\n",
       " 0x2c\n",
       " 0x21\n",
       " 0x00\n",
       " 0xc6\n",
       " 0x34\n",
       " 0x2c\n",
       " 0x23\n",
       " 0x00"
      ]
     },
     "execution_count": 7,
     "metadata": {},
     "output_type": "execute_result"
    }
   ],
   "source": [
    "ode_sys = eval(parse(new_ode[1][\"ode_prob\"]))"
   ]
  },
  {
   "cell_type": "code",
   "execution_count": 8,
   "metadata": {
    "collapsed": false
   },
   "outputs": [
    {
     "data": {
      "text/plain": [
       "IOBuffer(data=UInt8[...], readable=true, writable=false, seekable=true, append=false, size=538, maxsize=Inf, ptr=1, mark=-1)"
      ]
     },
     "execution_count": 8,
     "metadata": {},
     "output_type": "execute_result"
    }
   ],
   "source": [
    "io = IOBuffer(ode_sys)"
   ]
  },
  {
   "cell_type": "code",
   "execution_count": null,
   "metadata": {
    "collapsed": false
   },
   "outputs": [],
   "source": [
    "seekstart(io)\n",
    "prob = deserialize(io)\n",
    "#u0 = [10., 0.]\n",
    "#tspan = (0., 100.)\n",
    "\n",
    "#prob = ODEProblem(pf,u0,tspan)\n",
    "\n",
    "sol = solve(prob, Tsit5(), saveat=1.)"
   ]
  },
  {
   "cell_type": "code",
   "execution_count": 108,
   "metadata": {
    "collapsed": false
   },
   "outputs": [
    {
     "data": {
      "text/plain": [
       "retcode: Success\n",
       "Interpolation: 1st order linear\n",
       "t: 101-element Array{Float64,1}:\n",
       "   0.0\n",
       "   1.0\n",
       "   2.0\n",
       "   3.0\n",
       "   4.0\n",
       "   5.0\n",
       "   6.0\n",
       "   7.0\n",
       "   8.0\n",
       "   9.0\n",
       "  10.0\n",
       "  11.0\n",
       "  12.0\n",
       "   ⋮  \n",
       "  89.0\n",
       "  90.0\n",
       "  91.0\n",
       "  92.0\n",
       "  93.0\n",
       "  94.0\n",
       "  95.0\n",
       "  96.0\n",
       "  97.0\n",
       "  98.0\n",
       "  99.0\n",
       " 100.0\n",
       "u: 101-element Array{Array{Float64,1},1}:\n",
       " [10.0, 0.0]        \n",
       " [9.33333, 0.666667]\n",
       " [8.66667, 1.33333] \n",
       " [8.0, 2.0]         \n",
       " [7.33333, 2.66667] \n",
       " [6.66667, 3.33333] \n",
       " [6.0, 4.0]         \n",
       " [5.33333, 4.66667] \n",
       " [4.66667, 5.33333] \n",
       " [4.0, 6.0]         \n",
       " [3.33333, 6.66667] \n",
       " [2.66667, 7.33333] \n",
       " [2.0, 8.0]         \n",
       " ⋮                  \n",
       " [-49.3333, 59.3333]\n",
       " [-50.0, 60.0]      \n",
       " [-50.6667, 60.6667]\n",
       " [-51.3333, 61.3333]\n",
       " [-52.0, 62.0]      \n",
       " [-52.6667, 62.6667]\n",
       " [-53.3333, 63.3333]\n",
       " [-54.0, 64.0]      \n",
       " [-54.6667, 64.6667]\n",
       " [-55.3333, 65.3333]\n",
       " [-56.0, 66.0]      \n",
       " [-56.6667, 66.6667]"
      ]
     },
     "execution_count": 108,
     "metadata": {},
     "output_type": "execute_result"
    }
   ],
   "source": [
    "using DiffEqBase, OrdinaryDiffEq, ParameterizedFunctions\n",
    "#prob = deserialize(open(\"ode_sys.bin\"))\n",
    "seekstart(x)\n",
    "prob = deserialize(x)\n",
    "#u0 = [10., 0.]\n",
    "#tspan = (0., 100.)\n",
    "\n",
    "#prob = ODEProblem(pf,u0,tspan)\n",
    "\n",
    "sol = solve(prob, Tsit5(), saveat=1.)"
   ]
  },
  {
   "cell_type": "code",
   "execution_count": 104,
   "metadata": {
    "collapsed": false
   },
   "outputs": [
    {
     "data": {
      "text/plain": [
       "Base.AbstractIOBuffer{Array{UInt8,1}}"
      ]
     },
     "execution_count": 104,
     "metadata": {},
     "output_type": "execute_result"
    }
   ],
   "source": [
    "typeof(x)"
   ]
  },
  {
   "cell_type": "code",
   "execution_count": 257,
   "metadata": {
    "collapsed": false,
    "scrolled": true
   },
   "outputs": [
    {
     "name": "stdout",
     "output_type": "stream",
     "text": [
      "name=name1\n",
      "opts=Dict(:build_dpfuncs=>false,:build_expjac=>false,:build_hes=>false,:build_jac=>false,:build_invhes=>false,:build_tgrad=>false,:build_invW=>false,:build_invjac=>false)\n",
      "ex=$(Expr(:$, :opts))\n",
      "params=(:($(Expr(:$, :ode1))), :($(Expr(:$, :params))))\n",
      "expr=Expr[:(mutable struct name1 <: AbstractParameterizedFunction{true} # C:\\Julia\\v0.6\\ParameterizedFunctions\\src\\maketype.jl, line 25:\n",
      "        origex::Expr # C:\\Julia\\v0.6\\ParameterizedFunctions\\src\\maketype.jl, line 26:\n",
      "        funcs::Vector{Expr} # C:\\Julia\\v0.6\\ParameterizedFunctions\\src\\maketype.jl, line 27:\n",
      "        symfuncs::Vector{SymEngine.Basic} # C:\\Julia\\v0.6\\ParameterizedFunctions\\src\\maketype.jl, line 28:\n",
      "        pfuncs::Vector{Expr} # C:\\Julia\\v0.6\\ParameterizedFunctions\\src\\maketype.jl, line 29:\n",
      "        d_pfuncs::Vector{Expr} # C:\\Julia\\v0.6\\ParameterizedFunctions\\src\\maketype.jl, line 30:\n",
      "        syms::Vector{Symbol} # C:\\Julia\\v0.6\\ParameterizedFunctions\\src\\maketype.jl, line 31:\n",
      "        symtgrad::Vector{SymEngine.Basic} # C:\\Julia\\v0.6\\ParameterizedFunctions\\src\\maketype.jl, line 32:\n",
      "        symjac::Matrix{SymEngine.Basic} # C:\\Julia\\v0.6\\ParameterizedFunctions\\src\\maketype.jl, line 33:\n",
      "        expjac::Matrix{SymEngine.Basic} # C:\\Julia\\v0.6\\ParameterizedFunctions\\src\\maketype.jl, line 34:\n",
      "        invjac::Matrix{SymEngine.Basic} # C:\\Julia\\v0.6\\ParameterizedFunctions\\src\\maketype.jl, line 35:\n",
      "        syminvW::Matrix{SymEngine.Basic} # C:\\Julia\\v0.6\\ParameterizedFunctions\\src\\maketype.jl, line 36:\n",
      "        syminvW_t::Matrix{SymEngine.Basic} # C:\\Julia\\v0.6\\ParameterizedFunctions\\src\\maketype.jl, line 37:\n",
      "        symhes::Matrix{SymEngine.Basic} # C:\\Julia\\v0.6\\ParameterizedFunctions\\src\\maketype.jl, line 38:\n",
      "        invhes::Matrix{SymEngine.Basic} # C:\\Julia\\v0.6\\ParameterizedFunctions\\src\\maketype.jl, line 39:\n",
      "        param_symjac::Matrix{SymEngine.Basic} # C:\\Julia\\v0.6\\ParameterizedFunctions\\src\\maketype.jl, line 40:\n",
      "        tgradex::Expr # C:\\Julia\\v0.6\\ParameterizedFunctions\\src\\maketype.jl, line 41:\n",
      "        Jex::Expr # C:\\Julia\\v0.6\\ParameterizedFunctions\\src\\maketype.jl, line 42:\n",
      "        expJex::Expr # C:\\Julia\\v0.6\\ParameterizedFunctions\\src\\maketype.jl, line 43:\n",
      "        param_Jex::Expr # C:\\Julia\\v0.6\\ParameterizedFunctions\\src\\maketype.jl, line 44:\n",
      "        invJex::Expr # C:\\Julia\\v0.6\\ParameterizedFunctions\\src\\maketype.jl, line 45:\n",
      "        invWex::Expr # C:\\Julia\\v0.6\\ParameterizedFunctions\\src\\maketype.jl, line 46:\n",
      "        invWex_t::Expr # C:\\Julia\\v0.6\\ParameterizedFunctions\\src\\maketype.jl, line 47:\n",
      "        Hex::Expr # C:\\Julia\\v0.6\\ParameterizedFunctions\\src\\maketype.jl, line 48:\n",
      "        invHex::Expr # C:\\Julia\\v0.6\\ParameterizedFunctions\\src\\maketype.jl, line 49:\n",
      "        fex::Expr # C:\\Julia\\v0.6\\ParameterizedFunctions\\src\\maketype.jl, line 50:\n",
      "        pex::Expr # C:\\Julia\\v0.6\\ParameterizedFunctions\\src\\maketype.jl, line 51:\n",
      "        vector_ex::Expr # C:\\Julia\\v0.6\\ParameterizedFunctions\\src\\maketype.jl, line 52:\n",
      "        vector_ex_return::Expr # C:\\Julia\\v0.6\\ParameterizedFunctions\\src\\maketype.jl, line 53:\n",
      "        params::Vector{Symbol} # C:\\Julia\\v0.6\\ParameterizedFunctions\\src\\maketype.jl, line 54:\n",
      "    end), :($(Expr(:escape, :(name1(; origex=$(Expr(:quote, :($(Expr(:$, :opts))))), funcs=Expr[], symfuncs=SymEngine.Basic[], pfuncs=Expr[], d_pfuncs=Expr[], syms=Symbol[], symtgrad=SymEngine.Basic[], symjac=Array{SymEngine.Basic}(0,0), expjac=Array{SymEngine.Basic}(0,0), invjac=Array{SymEngine.Basic}(0,0), syminvW=Array{SymEngine.Basic}(0,0), syminvW_t=Array{SymEngine.Basic}(0,0), symhes=Array{SymEngine.Basic}(0,0), invhes=Array{SymEngine.Basic}(0,0), param_symjac=Array{SymEngine.Basic}(0,0), tgradex=$(Expr(:quote, :(error(\"t-gradient Does Not Exist\")))), Jex=$(Expr(:quote, :(error(\"Jacobian Does Not Exist\")))), expJex=$(Expr(:quote, :(error(\"Exponential Jacobian Does Not Exist\")))), param_Jex=$(Expr(:quote, :(error(\"Parameter Jacobian Does Not Exist\")))), invJex=$(Expr(:quote, :(error(\"Inverse Jacobian Does Not Exist\")))), invWex=$(Expr(:quote, :(error(\"Inverse Rosenbrock-W Does Not Exist\")))), invWex_t=$(Expr(:quote, :(error(\"Inverse Rosenbrock-W Transformed Does Not Exist\")))), Hex=$(Expr(:quote, :(error(\"Hessian Does Not Exist\")))), invHex=$(Expr(:quote, :(error(\"Inverse Hessian Does Not Exist\")))), fex=$(Expr(:quote, :($(Expr(:$, :opts, nothing))))), pex=$(Expr(:quote, :($(Expr(:$, :opts))))), vector_ex=$(Expr(:quote, :($(Expr(:$, :opts))))), vector_ex_return=$(Expr(:quote, :($(Expr(:$, :opts, :(hcat())))))), params=Symbol[]) = begin  # C:\\Julia\\v0.6\\ParameterizedFunctions\\src\\maketype.jl, line 72:\n",
      "            name1(origex, funcs, symfuncs, pfuncs, d_pfuncs, syms, symtgrad, symjac, expjac, invjac, syminvW, syminvW_t, symhes, invhes, param_symjac, tgradex, Jex, expJex, param_Jex, invJex, invWex, invWex_t, Hex, invHex, fex, pex, vector_ex, vector_ex_return, params)\n",
      "        end)))), :($(Expr(:escape, :((___p::name1)(t::Number, ___u, ___du) = begin  # C:\\Julia\\v0.6\\ParameterizedFunctions\\src\\ode_def_opts.jl, line 248:\n",
      "            $(Expr(:$, :opts, nothing))\n",
      "        end)))), :($(Expr(:escape, :((___p::name1)(t::Number, ___u, params, ___du) = begin  # C:\\Julia\\v0.6\\ParameterizedFunctions\\src\\ode_def_opts.jl, line 261:\n",
      "            $(Expr(:$, :opts))\n",
      "        end)))), :($(Expr(:escape, :((___p::name1)(t::Number, u) = begin  # C:\\Julia\\v0.6\\ParameterizedFunctions\\src\\ode_def_opts.jl, line 265:\n",
      "            begin \n",
      "                du = similar(u)\n",
      "                ___p(t, u, du)\n",
      "                du\n",
      "            end\n",
      "        end)))), :($(Expr(:escape, :((___p::name1)(::Type{Val{:vec}}, t::Number, ___u, ___du) = begin  # C:\\Julia\\v0.6\\ParameterizedFunctions\\src\\ode_def_opts.jl, line 269:\n",
      "            $(Expr(:$, :opts))\n",
      "        end)))), :($(Expr(:escape, :((___p::name1)(::Type{Val{:vec}}, t::Number, ___u) = begin  # C:\\Julia\\v0.6\\ParameterizedFunctions\\src\\ode_def_opts.jl, line 273:\n",
      "            $(Expr(:$, :opts, :(hcat())))\n",
      "        end)))), :($(Expr(:escape, :(name1()))))]\n",
      "block = begin  # C:\\Julia\\v0.6\\ParameterizedFunctions\\src\\utils.jl, line 2:\n",
      "    mutable struct name1 <: AbstractParameterizedFunction{true} # C:\\Julia\\v0.6\\ParameterizedFunctions\\src\\maketype.jl, line 25:\n",
      "        origex::Expr # C:\\Julia\\v0.6\\ParameterizedFunctions\\src\\maketype.jl, line 26:\n",
      "        funcs::Vector{Expr} # C:\\Julia\\v0.6\\ParameterizedFunctions\\src\\maketype.jl, line 27:\n",
      "        symfuncs::Vector{SymEngine.Basic} # C:\\Julia\\v0.6\\ParameterizedFunctions\\src\\maketype.jl, line 28:\n",
      "        pfuncs::Vector{Expr} # C:\\Julia\\v0.6\\ParameterizedFunctions\\src\\maketype.jl, line 29:\n",
      "        d_pfuncs::Vector{Expr} # C:\\Julia\\v0.6\\ParameterizedFunctions\\src\\maketype.jl, line 30:\n",
      "        syms::Vector{Symbol} # C:\\Julia\\v0.6\\ParameterizedFunctions\\src\\maketype.jl, line 31:\n",
      "        symtgrad::Vector{SymEngine.Basic} # C:\\Julia\\v0.6\\ParameterizedFunctions\\src\\maketype.jl, line 32:\n",
      "        symjac::Matrix{SymEngine.Basic} # C:\\Julia\\v0.6\\ParameterizedFunctions\\src\\maketype.jl, line 33:\n",
      "        expjac::Matrix{SymEngine.Basic} # C:\\Julia\\v0.6\\ParameterizedFunctions\\src\\maketype.jl, line 34:\n",
      "        invjac::Matrix{SymEngine.Basic} # C:\\Julia\\v0.6\\ParameterizedFunctions\\src\\maketype.jl, line 35:\n",
      "        syminvW::Matrix{SymEngine.Basic} # C:\\Julia\\v0.6\\ParameterizedFunctions\\src\\maketype.jl, line 36:\n",
      "        syminvW_t::Matrix{SymEngine.Basic} # C:\\Julia\\v0.6\\ParameterizedFunctions\\src\\maketype.jl, line 37:\n",
      "        symhes::Matrix{SymEngine.Basic} # C:\\Julia\\v0.6\\ParameterizedFunctions\\src\\maketype.jl, line 38:\n",
      "        invhes::Matrix{SymEngine.Basic} # C:\\Julia\\v0.6\\ParameterizedFunctions\\src\\maketype.jl, line 39:\n",
      "        param_symjac::Matrix{SymEngine.Basic} # C:\\Julia\\v0.6\\ParameterizedFunctions\\src\\maketype.jl, line 40:\n",
      "        tgradex::Expr # C:\\Julia\\v0.6\\ParameterizedFunctions\\src\\maketype.jl, line 41:\n",
      "        Jex::Expr # C:\\Julia\\v0.6\\ParameterizedFunctions\\src\\maketype.jl, line 42:\n",
      "        expJex::Expr # C:\\Julia\\v0.6\\ParameterizedFunctions\\src\\maketype.jl, line 43:\n",
      "        param_Jex::Expr # C:\\Julia\\v0.6\\ParameterizedFunctions\\src\\maketype.jl, line 44:\n",
      "        invJex::Expr # C:\\Julia\\v0.6\\ParameterizedFunctions\\src\\maketype.jl, line 45:\n",
      "        invWex::Expr # C:\\Julia\\v0.6\\ParameterizedFunctions\\src\\maketype.jl, line 46:\n",
      "        invWex_t::Expr # C:\\Julia\\v0.6\\ParameterizedFunctions\\src\\maketype.jl, line 47:\n",
      "        Hex::Expr # C:\\Julia\\v0.6\\ParameterizedFunctions\\src\\maketype.jl, line 48:\n",
      "        invHex::Expr # C:\\Julia\\v0.6\\ParameterizedFunctions\\src\\maketype.jl, line 49:\n",
      "        fex::Expr # C:\\Julia\\v0.6\\ParameterizedFunctions\\src\\maketype.jl, line 50:\n",
      "        pex::Expr # C:\\Julia\\v0.6\\ParameterizedFunctions\\src\\maketype.jl, line 51:\n",
      "        vector_ex::Expr # C:\\Julia\\v0.6\\ParameterizedFunctions\\src\\maketype.jl, line 52:\n",
      "        vector_ex_return::Expr # C:\\Julia\\v0.6\\ParameterizedFunctions\\src\\maketype.jl, line 53:\n",
      "        params::Vector{Symbol} # C:\\Julia\\v0.6\\ParameterizedFunctions\\src\\maketype.jl, line 54:\n",
      "    end\n",
      "    $(Expr(:escape, :(name1(; origex=$(Expr(:quote, :($(Expr(:$, :opts))))), funcs=Expr[], symfuncs=SymEngine.Basic[], pfuncs=Expr[], d_pfuncs=Expr[], syms=Symbol[], symtgrad=SymEngine.Basic[], symjac=Array{SymEngine.Basic}(0,0), expjac=Array{SymEngine.Basic}(0,0), invjac=Array{SymEngine.Basic}(0,0), syminvW=Array{SymEngine.Basic}(0,0), syminvW_t=Array{SymEngine.Basic}(0,0), symhes=Array{SymEngine.Basic}(0,0), invhes=Array{SymEngine.Basic}(0,0), param_symjac=Array{SymEngine.Basic}(0,0), tgradex=$(Expr(:quote, :(error(\"t-gradient Does Not Exist\")))), Jex=$(Expr(:quote, :(error(\"Jacobian Does Not Exist\")))), expJex=$(Expr(:quote, :(error(\"Exponential Jacobian Does Not Exist\")))), param_Jex=$(Expr(:quote, :(error(\"Parameter Jacobian Does Not Exist\")))), invJex=$(Expr(:quote, :(error(\"Inverse Jacobian Does Not Exist\")))), invWex=$(Expr(:quote, :(error(\"Inverse Rosenbrock-W Does Not Exist\")))), invWex_t=$(Expr(:quote, :(error(\"Inverse Rosenbrock-W Transformed Does Not Exist\")))), Hex=$(Expr(:quote, :(error(\"Hessian Does Not Exist\")))), invHex=$(Expr(:quote, :(error(\"Inverse Hessian Does Not Exist\")))), fex=$(Expr(:quote, :($(Expr(:$, :opts, nothing))))), pex=$(Expr(:quote, :($(Expr(:$, :opts))))), vector_ex=$(Expr(:quote, :($(Expr(:$, :opts))))), vector_ex_return=$(Expr(:quote, :($(Expr(:$, :opts, :(hcat())))))), params=Symbol[]) = begin  # C:\\Julia\\v0.6\\ParameterizedFunctions\\src\\maketype.jl, line 72:\n",
      "            name1(origex, funcs, symfuncs, pfuncs, d_pfuncs, syms, symtgrad, symjac, expjac, invjac, syminvW, syminvW_t, symhes, invhes, param_symjac, tgradex, Jex, expJex, param_Jex, invJex, invWex, invWex_t, Hex, invHex, fex, pex, vector_ex, vector_ex_return, params)\n",
      "        end)))\n",
      "    $(Expr(:escape, :((___p::name1)(t::Number, ___u, ___du) = begin  # C:\\Julia\\v0.6\\ParameterizedFunctions\\src\\ode_def_opts.jl, line 248:\n",
      "            $(Expr(:$, :opts, nothing))\n",
      "        end)))\n",
      "    $(Expr(:escape, :((___p::name1)(t::Number, ___u, params, ___du) = begin  # C:\\Julia\\v0.6\\ParameterizedFunctions\\src\\ode_def_opts.jl, line 261:\n",
      "            $(Expr(:$, :opts))\n",
      "        end)))\n",
      "    $(Expr(:escape, :((___p::name1)(t::Number, u) = begin  # C:\\Julia\\v0.6\\ParameterizedFunctions\\src\\ode_def_opts.jl, line 265:\n",
      "            begin \n",
      "                du = similar(u)\n",
      "                ___p(t, u, du)\n",
      "                du\n",
      "            end\n",
      "        end)))\n",
      "    $(Expr(:escape, :((___p::name1)(::Type{Val{:vec}}, t::Number, ___u, ___du) = begin  # C:\\Julia\\v0.6\\ParameterizedFunctions\\src\\ode_def_opts.jl, line 269:\n",
      "            $(Expr(:$, :opts))\n",
      "        end)))\n",
      "    $(Expr(:escape, :((___p::name1)(::Type{Val{:vec}}, t::Number, ___u) = begin  # C:\\Julia\\v0.6\\ParameterizedFunctions\\src\\ode_def_opts.jl, line 273:\n",
      "            $(Expr(:$, :opts, :(hcat())))\n",
      "        end)))\n",
      "    $(Expr(:escape, :(name1())))\n",
      "end\n"
     ]
    },
    {
     "ename": "LoadError",
     "evalue": "\u001b[91mMethodError: Cannot `convert` an object of type Dict{Symbol,Bool} to an object of type Expr\nThis may have arisen from a call to the constructor Expr(...),\nsince type constructors fall back to convert methods.\u001b[39m",
     "output_type": "error",
     "traceback": [
      "\u001b[91mMethodError: Cannot `convert` an object of type Dict{Symbol,Bool} to an object of type Expr\nThis may have arisen from a call to the constructor Expr(...),\nsince type constructors fall back to convert methods.\u001b[39m",
      "",
      "Stacktrace:",
      " [1] \u001b[1mname1\u001b[22m\u001b[22m\u001b[1m(\u001b[22m\u001b[22m::Dict{Symbol,Bool}, ::Array{Expr,1}, ::Array{SymEngine.Basic,1}, ::Array{Expr,1}, ::Array{Expr,1}, ::Array{Symbol,1}, ::Array{SymEngine.Basic,1}, ::Array{SymEngine.Basic,2}, ::Array{SymEngine.Basic,2}, ::Array{SymEngine.Basic,2}, ::Array{SymEngine.Basic,2}, ::Array{SymEngine.Basic,2}, ::Array{SymEngine.Basic,2}, ::Array{SymEngine.Basic,2}, ::Array{SymEngine.Basic,2}, ::Expr, ::Expr, ::Expr, ::Expr, ::Expr, ::Expr, ::Expr, ::Expr, ::Expr, ::Expr, ::Dict{Symbol,Bool}, ::Dict{Symbol,Bool}, ::Expr, ::Array{Symbol,1}\u001b[1m)\u001b[22m\u001b[22m at \u001b[1mC:\\Julia\\v0.6\\ParameterizedFunctions\\src\\maketype.jl:25\u001b[22m\u001b[22m",
      " [2] \u001b[1m#name1#14\u001b[22m\u001b[22m\u001b[1m(\u001b[22m\u001b[22m::Dict{Symbol,Bool}, ::Array{Expr,1}, ::Array{SymEngine.Basic,1}, ::Array{Expr,1}, ::Array{Expr,1}, ::Array{Symbol,1}, ::Array{SymEngine.Basic,1}, ::Array{SymEngine.Basic,2}, ::Array{SymEngine.Basic,2}, ::Array{SymEngine.Basic,2}, ::Array{SymEngine.Basic,2}, ::Array{SymEngine.Basic,2}, ::Array{SymEngine.Basic,2}, ::Array{SymEngine.Basic,2}, ::Array{SymEngine.Basic,2}, ::Expr, ::Expr, ::Expr, ::Expr, ::Expr, ::Expr, ::Expr, ::Expr, ::Expr, ::Expr, ::Dict{Symbol,Bool}, ::Dict{Symbol,Bool}, ::Expr, ::Array{Symbol,1}, ::Type{T} where T\u001b[1m)\u001b[22m\u001b[22m at \u001b[1mC:\\Julia\\v0.6\\ParameterizedFunctions\\src\\maketype.jl:72\u001b[22m\u001b[22m",
      " [3] \u001b[1mname1\u001b[22m\u001b[22m\u001b[1m(\u001b[22m\u001b[22m\u001b[1m)\u001b[22m\u001b[22m at \u001b[1mC:\\Julia\\v0.6\\ParameterizedFunctions\\src\\maketype.jl:72\u001b[22m\u001b[22m",
      " [4] \u001b[1minclude_string\u001b[22m\u001b[22m\u001b[1m(\u001b[22m\u001b[22m::String, ::String\u001b[1m)\u001b[22m\u001b[22m at \u001b[1m.\\loading.jl:515\u001b[22m\u001b[22m"
     ]
    }
   ],
   "source": [
    "using DiffEqBase, OrdinaryDiffEq, ParameterizedFunctions\n",
    "\n",
    "opts = Dict{Symbol,Bool}(\n",
    "    :build_tgrad => false,\n",
    "    :build_jac => false,\n",
    "    :build_expjac => false,\n",
    "    :build_invjac => false,\n",
    "    :build_invW => false,\n",
    "    :build_hes => false,\n",
    "    :build_invhes => false,\n",
    "    :build_dpfuncs => false)\n",
    "\n",
    "ode1 = quote\n",
    "    v1 = k1*A*comp1\n",
    "    dA = -k1*A*comp1/comp1\n",
    "    dB = k1*A*comp1/comp1\n",
    "end\n",
    "\n",
    "name = Symbol(\"MAIN\")\n",
    "params = :[:(comp1=>1.1), :(k1=>0.01)]\n",
    "\n",
    "pf = @ode_def_bare(name1, $opts, $ode1, $(params))\n",
    "#pf = ode_def_opts(name, opts, ode1, params)\n",
    "\n",
    "u0 = [10., 0.]\n",
    "tspan = (0., 1000.)\n",
    "\n",
    "#prob = ODEProblem(pf,u0,tspan)\n"
   ]
  },
  {
   "cell_type": "code",
   "execution_count": 48,
   "metadata": {
    "collapsed": false
   },
   "outputs": [],
   "source": [
    "update(scenarios, (\"_id\" => id), inc(\"age\" => 1))"
   ]
  },
  {
   "cell_type": "code",
   "execution_count": 85,
   "metadata": {
    "collapsed": false
   },
   "outputs": [
    {
     "name": "stdout",
     "output_type": "stream",
     "text": [
      "{ \"_id\" : { \"$oid\" : \"5a3b8d3a35a8555a6a1b5fc0\" }, \"id\" : \"default\", \"odeDim\" : 2, \"ode\" : [ \"# for rules\", \"v1 = k1*A*comp1\", \"# for dynamic\", \"dA = -v1/comp1\", \"dB = v1/comp1\" ], \"events\" : [ { \"condition\" : [ \"isequal(t,0)\" ], \"affect!\" : [ \"# for dynamic\", \"integrator.u[1] = p[3]\", \"integrator.u[2] = p[4]\", \"# for static\", \"integrator.f.comp1 = p[1]\", \"integrator.f.k1 = p[2]\" ] } ] }\n",
      "{ \"_id\" : { \"$oid\" : \"5a40efe612f03800a854666f\" }, \"id\" : \"default\", \"odeDim\" : 2, \"ode\" : [ \"# for rules\", \"v1 = k1*A*comp1\", \"# for dynamic\", \"dA = -v1/comp1\", \"dB = v1/comp1\" ], \"events\" : [ { \"condition\" : [ \"isequal(t,0)\" ], \"affect!\" : [ \"# for dynamic\", \"integrator.u[1] = p[3]\", \"integrator.u[2] = p[4]\", \"# for static\", \"integrator.f.comp1 = p[1]\", \"integrator.f.k1 = p[2]\" ] } ] }\n"
     ]
    },
    {
     "ename": "LoadError",
     "evalue": "\u001b[91mUndefVarError: new_ode not defined\u001b[39m",
     "output_type": "error",
     "traceback": [
      "\u001b[91mUndefVarError: new_ode not defined\u001b[39m",
      "",
      "Stacktrace:",
      " [1] \u001b[1minclude_string\u001b[22m\u001b[22m\u001b[1m(\u001b[22m\u001b[22m::String, ::String\u001b[1m)\u001b[22m\u001b[22m at \u001b[1m.\\loading.jl:515\u001b[22m\u001b[22m"
     ]
    }
   ],
   "source": [
    "command_simple(client,\n",
    "               \"testPlatform1\",\n",
    "               Dict(\n",
    "                  \"distinct\" => \"scenarios\",\n",
    "                  \"indexes\" => [\n",
    "                      Dict(\n",
    "                          \"key\" => Dict(\"name\" => 1),\n",
    "                          \"name\" => \"cats_name\",\n",
    "                          \"unique\" => 1)\n",
    "                      ]\n",
    "                  ))"
   ]
  },
  {
   "cell_type": "code",
   "execution_count": 26,
   "metadata": {
    "collapsed": false
   },
   "outputs": [
    {
     "data": {
      "text/plain": [
       "retcode: Success\n",
       "Interpolation: 1st order linear\n",
       "t: 1001-element Array{Float64,1}:\n",
       "    0.0\n",
       "    1.0\n",
       "    2.0\n",
       "    3.0\n",
       "    4.0\n",
       "    5.0\n",
       "    6.0\n",
       "    7.0\n",
       "    8.0\n",
       "    9.0\n",
       "   10.0\n",
       "   11.0\n",
       "   12.0\n",
       "    ⋮  \n",
       "  989.0\n",
       "  990.0\n",
       "  991.0\n",
       "  992.0\n",
       "  993.0\n",
       "  994.0\n",
       "  995.0\n",
       "  996.0\n",
       "  997.0\n",
       "  998.0\n",
       "  999.0\n",
       " 1000.0\n",
       "u: 1001-element Array{Array{Float64,1},1}:\n",
       " [10.0, 0.0]        \n",
       " [9.33333, 0.666667]\n",
       " [8.66667, 1.33333] \n",
       " [8.0, 2.0]         \n",
       " [7.33333, 2.66667] \n",
       " [6.66667, 3.33333] \n",
       " [6.0, 4.0]         \n",
       " [5.33333, 4.66667] \n",
       " [4.66667, 5.33333] \n",
       " [4.0, 6.0]         \n",
       " [3.33333, 6.66667] \n",
       " [2.66667, 7.33333] \n",
       " [2.0, 8.0]         \n",
       " ⋮                  \n",
       " [-649.333, 659.333]\n",
       " [-650.0, 660.0]    \n",
       " [-650.667, 660.667]\n",
       " [-651.333, 661.333]\n",
       " [-652.0, 662.0]    \n",
       " [-652.667, 662.667]\n",
       " [-653.333, 663.333]\n",
       " [-654.0, 664.0]    \n",
       " [-654.667, 664.667]\n",
       " [-655.333, 665.333]\n",
       " [-656.0, 666.0]    \n",
       " [-656.667, 666.667]"
      ]
     },
     "execution_count": 26,
     "metadata": {},
     "output_type": "execute_result"
    }
   ],
   "source": [
    "using DiffEqBase, OrdinaryDiffEq, ParameterizedFunctions, JLD2\n",
    "\n",
    "JLD2.@load \"out.jld2\" pf\n",
    "\n",
    "u0 = [10., 0.]\n",
    "tspan = (0., 1000.)\n",
    "\n",
    "prob = ODEProblem(pf,u0,tspan)\n",
    "sol = solve(prob, Tsit5(), saveat=1.)"
   ]
  },
  {
   "cell_type": "code",
   "execution_count": null,
   "metadata": {
    "collapsed": true
   },
   "outputs": [],
   "source": []
  }
 ],
 "metadata": {
  "kernelspec": {
   "display_name": "Julia 0.6.0",
   "language": "julia",
   "name": "julia-0.6"
  },
  "language_info": {
   "file_extension": ".jl",
   "mimetype": "application/julia",
   "name": "julia",
   "version": "0.6.0"
  }
 },
 "nbformat": 4,
 "nbformat_minor": 2
}
