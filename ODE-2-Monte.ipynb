{
 "cells": [
  {
   "cell_type": "code",
   "execution_count": 3,
   "metadata": {
    "collapsed": false
   },
   "outputs": [
    {
     "data": {
      "text/plain": [
       "3-element Array{Int64,1}:\n",
       " 1\n",
       " 2\n",
       " 3"
      ]
     },
     "execution_count": 3,
     "metadata": {},
     "output_type": "execute_result"
    }
   ],
   "source": [
    "procs()"
   ]
  },
  {
   "cell_type": "code",
   "execution_count": 15,
   "metadata": {
    "collapsed": false,
    "deletable": true,
    "editable": true
   },
   "outputs": [
    {
     "name": "stderr",
     "output_type": "stream",
     "text": [
      "WARNING: Method definition macroexpand(Module, Any) in module Compat at C:\\Users\\ivbor\\.julia\\v0.5\\Compat\\src\\Compat.jl:1491 overwritten in module MacroTools at C:\\Users\\ivbor\\.julia\\v0.5\\MacroTools\\src\\utils.jl:64.\n"
     ]
    },
    {
     "name": "stdout",
     "output_type": "stream",
     "text": [
      " 15.341303 seconds (2.25 M allocations: 85.252 MB, 0.38% gc time)\n"
     ]
    }
   ],
   "source": [
    "addprocs(1)\n",
    "@everywhere begin\n",
    "    import Distributions: Uniform\n",
    "    using DiffEqBase, OrdinaryDiffEq, DiffEqMonteCarlo\n",
    "\n",
    "    # number of iterations\n",
    "    n_iter = 10\n",
    "\n",
    "    # t span and step\n",
    "    tspan = (0., 100.)\n",
    "    step = 1.\n",
    "\n",
    "    # DiffEq \n",
    "    pf_func = function (t,u,p,du)\n",
    "        vel = p[3]*p[2]*u[2]/(p[4]+u[2])\n",
    "        vabs = p[1]*p[5]*u[1]\n",
    "        du[1] = -vabs/p[1]\n",
    "        du[2] = (vabs-vel)/p[3]\n",
    "    end\n",
    "\n",
    "    # Defaults\n",
    "    u0 = [C0=10., C1=0.]\n",
    "    params = [Default=1., kcat=7.282813exp(-1), Vd=5.275000exp(0), Km=5.257432exp(0), kabs=2.090394exp(0)]\n",
    "\n",
    "    pf = ParameterizedFunction(pf_func,params)\n",
    "    prob = ODEProblem(pf,u0,tspan)\n",
    "\n",
    "    # MonteCarlo\n",
    "    prob_func1 = function (prob, i)\n",
    "      prob.f.params[2] = rand(Uniform(6.5, 7.5))\n",
    "      prob.f.params[3] = rand(Uniform(4.5, 5.5))\n",
    "      prob.f.params[4] = rand(Uniform(4.5, 5.5))\n",
    "      prob.f.params[5] = rand(Uniform(1.5, 3.))\n",
    "      prob\n",
    "    end\n",
    "    \n",
    "    monte_prob = MonteCarloProblem(prob,prob_func=prob_func1)\n",
    "end\n",
    "\n",
    "# Solution\n",
    "@time sim = solve(monte_prob, Tsit5(), saveat=collect(tspan[1]:step:tspan[2]), parallel_type=:threads, num_monte=n_iter)"
   ]
  },
  {
   "cell_type": "code",
   "execution_count": null,
   "metadata": {
    "collapsed": false,
    "deletable": true,
    "editable": true
   },
   "outputs": [],
   "source": [
    "# plot\n",
    "using Plots\n",
    "plotly()\n",
    "plot(sim, xlims = (0.,5.), xlabel=\"t\", ylabel=\"C0 and C1\")"
   ]
  },
  {
   "cell_type": "code",
   "execution_count": 2,
   "metadata": {
    "collapsed": false
   },
   "outputs": [
    {
     "data": {
      "text/plain": [
       "1-element Array{Int64,1}:\n",
       " 1"
      ]
     },
     "execution_count": 2,
     "metadata": {},
     "output_type": "execute_result"
    }
   ],
   "source": [
    "procs()"
   ]
  }
 ],
 "metadata": {
  "kernelspec": {
   "display_name": "Julia 0.5.1",
   "language": "julia",
   "name": "julia-0.5"
  },
  "language_info": {
   "file_extension": ".jl",
   "mimetype": "application/julia",
   "name": "julia",
   "version": "0.5.1"
  }
 },
 "nbformat": 4,
 "nbformat_minor": 2
}
